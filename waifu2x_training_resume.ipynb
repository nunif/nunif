{
  "cells": [
    {
      "cell_type": "markdown",
      "metadata": {
        "id": "view-in-github",
        "colab_type": "text"
      },
      "source": [
        "<a href=\"https://colab.research.google.com/github/nunif/nunif-colab/blob/master/waifu2x_training_resume.ipynb\" target=\"_parent\"><img src=\"https://colab.research.google.com/assets/colab-badge.svg\" alt=\"Open In Colab\"/></a>"
      ]
    },
    {
      "cell_type": "markdown",
      "metadata": {
        "id": "gpJdRlcDr-54"
      },
      "source": [
        "# Setup"
      ]
    },
    {
      "cell_type": "code",
      "execution_count": 1,
      "metadata": {
        "colab": {
          "base_uri": "https://localhost:8080/"
        },
        "id": "nquZO1tRniAC",
        "outputId": "8c826901-0d5f-4794-c1b9-fb7a5d819831"
      },
      "outputs": [
        {
          "output_type": "stream",
          "name": "stdout",
          "text": [
            "Cloning into 'nunif-colab'...\n",
            "/content/nunif-colab/.git/: No such file or directory\n"
          ]
        }
      ],
      "source": [
        "!rm -rf nunif-colab & git clone https://github.com/nunif/nunif-colab.git"
      ]
    },
    {
      "cell_type": "code",
      "execution_count": 2,
      "metadata": {
        "id": "uETAmAoWmVpM",
        "colab": {
          "base_uri": "https://localhost:8080/",
          "height": 184
        },
        "outputId": "8de7246c-7f9f-42e0-dfe2-4382fe856240"
      },
      "outputs": [
        {
          "output_type": "error",
          "ename": "FileNotFoundError",
          "evalue": "ignored",
          "traceback": [
            "\u001b[0;31m---------------------------------------------------------------------------\u001b[0m",
            "\u001b[0;31mFileNotFoundError\u001b[0m                         Traceback (most recent call last)",
            "\u001b[0;32m<ipython-input-2-24b7e63cbf5c>\u001b[0m in \u001b[0;36m<cell line: 2>\u001b[0;34m()\u001b[0m\n\u001b[1;32m      1\u001b[0m \u001b[0;32mimport\u001b[0m \u001b[0mos\u001b[0m\u001b[0;34m\u001b[0m\u001b[0;34m\u001b[0m\u001b[0m\n\u001b[0;32m----> 2\u001b[0;31m \u001b[0mos\u001b[0m\u001b[0;34m.\u001b[0m\u001b[0mchdir\u001b[0m\u001b[0;34m(\u001b[0m\u001b[0;34m'/content/nunif-colab'\u001b[0m\u001b[0;34m)\u001b[0m\u001b[0;34m\u001b[0m\u001b[0;34m\u001b[0m\u001b[0m\n\u001b[0m",
            "\u001b[0;31mFileNotFoundError\u001b[0m: [Errno 2] No such file or directory: '/content/nunif-colab'"
          ]
        }
      ],
      "source": [
        "import os\n",
        "os.chdir('/content/nunif-colab')"
      ]
    },
    {
      "cell_type": "code",
      "execution_count": null,
      "metadata": {
        "id": "dI_sq955piX6"
      },
      "outputs": [],
      "source": [
        "from google.colab import drive\n",
        "drive.mount('./drive')"
      ]
    },
    {
      "cell_type": "code",
      "execution_count": null,
      "metadata": {
        "id": "512YEHr1mfi8"
      },
      "outputs": [],
      "source": [
        "!chmod +x ./install.sh && ./install.sh && ls"
      ]
    },
    {
      "cell_type": "code",
      "execution_count": null,
      "metadata": {
        "id": "i8XFHEBcpld8"
      },
      "outputs": [],
      "source": [
        "!mkdir ./data/dataset/waifu2x/eval & mkdir ./data/dataset/waifu2x/train"
      ]
    },
    {
      "cell_type": "markdown",
      "metadata": {
        "id": "IDUZ6Jn3saco"
      },
      "source": [
        "# Run image_crawler"
      ]
    },
    {
      "cell_type": "code",
      "execution_count": null,
      "metadata": {
        "id": "RoBc2rtAnG3G"
      },
      "outputs": [],
      "source": [
        "import os\n",
        "os.chdir(\"./image_crawler\")"
      ]
    },
    {
      "cell_type": "code",
      "execution_count": null,
      "metadata": {
        "id": "MU8dV2eaoJj1"
      },
      "outputs": [],
      "source": [
        "!python3 main.py"
      ]
    },
    {
      "cell_type": "markdown",
      "metadata": {
        "id": "eGIgmebxsip0"
      },
      "source": [
        "# Run Model Training"
      ]
    },
    {
      "cell_type": "code",
      "execution_count": null,
      "metadata": {
        "id": "fOlgipGKpVXc"
      },
      "outputs": [],
      "source": [
        "import os\n",
        "os.chdir(\"../\")"
      ]
    },
    {
      "cell_type": "code",
      "execution_count": null,
      "metadata": {
        "id": "02q7nL9FpX_D"
      },
      "outputs": [],
      "source": [
        "!python3 create_training_data.py waifu2x --dataset-dir ./data/dataset/waifu2x/ --data-dir ./data/waifu2x"
      ]
    },
    {
      "cell_type": "code",
      "execution_count": null,
      "metadata": {
        "id": "9xhvXEhKxmlj"
      },
      "outputs": [],
      "source": [
        "!pip3 install --upgrade pillow"
      ]
    },
    {
      "cell_type": "code",
      "execution_count": null,
      "metadata": {
        "id": "O60VyiKlypnk"
      },
      "outputs": [],
      "source": [
        "!mv ./data/dataset/waifu2x/train/* ./data/waifu2x/eval/"
      ]
    },
    {
      "cell_type": "code",
      "execution_count": null,
      "metadata": {
        "id": "w_PbARt98850"
      },
      "outputs": [],
      "source": [
        "!python3 train.py waifu2x --method scale --arch waifu2x.upcunet --data-dir ./data/waifu2x --model-dir ./drive/MyDrive/waifu2x_mymodel --resume --batch-size 20"
      ]
    }
  ],
  "metadata": {
    "accelerator": "GPU",
    "colab": {
      "provenance": [],
      "mount_file_id": "187GB4Vv8vCGeiMGjHcUChyXcKQS-Xm-x",
      "authorship_tag": "ABX9TyOEgcNTVHLcPS9/lTYOpAB9",
      "include_colab_link": true
    },
    "gpuClass": "standard",
    "kernelspec": {
      "display_name": "Python 3",
      "name": "python3"
    },
    "language_info": {
      "name": "python"
    }
  },
  "nbformat": 4,
  "nbformat_minor": 0
}