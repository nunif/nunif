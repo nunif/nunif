{
  "nbformat": 4,
  "nbformat_minor": 0,
  "metadata": {
    "colab": {
      "provenance": [],
      "gpuType": "T4",
      "authorship_tag": "ABX9TyPFz9KK1TZ+nCP9HtoRmVkB",
      "include_colab_link": true
    },
    "kernelspec": {
      "name": "python3",
      "display_name": "Python 3"
    },
    "language_info": {
      "name": "python"
    },
    "accelerator": "GPU",
    "gpuClass": "standard"
  },
  "cells": [
    {
      "cell_type": "markdown",
      "metadata": {
        "id": "view-in-github",
        "colab_type": "text"
      },
      "source": [
        "<a href=\"https://colab.research.google.com/github/nunif/nunif-colab/blob/master/waifu2x_training.ipynb\" target=\"_parent\"><img src=\"https://colab.research.google.com/assets/colab-badge.svg\" alt=\"Open In Colab\"/></a>"
      ]
    },
    {
      "cell_type": "markdown",
      "source": [],
      "metadata": {
        "id": "aFQUSCPG1fzl"
      }
    },
    {
      "cell_type": "code",
      "source": [
        "!rm -rf nunif & git clone https://github.com/nunif/nunif-colab.git && cd nunif && chmod +x ./install.sh && ./install.sh && ls"
      ],
      "metadata": {
        "id": "nquZO1tRniAC"
      },
      "execution_count": null,
      "outputs": []
    }
  ]
}