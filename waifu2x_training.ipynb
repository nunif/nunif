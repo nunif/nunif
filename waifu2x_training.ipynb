{
  "nbformat": 4,
  "nbformat_minor": 0,
  "metadata": {
    "colab": {
      "provenance": [],
      "gpuType": "T4",
      "mount_file_id": "187GB4Vv8vCGeiMGjHcUChyXcKQS-Xm-x",
      "authorship_tag": "ABX9TyPaALkh1CN5OcT/rYkN6xvw",
      "include_colab_link": true
    },
    "kernelspec": {
      "name": "python3",
      "display_name": "Python 3"
    },
    "language_info": {
      "name": "python"
    },
    "accelerator": "GPU",
    "gpuClass": "standard"
  },
  "cells": [
    {
      "cell_type": "markdown",
      "metadata": {
        "id": "view-in-github",
        "colab_type": "text"
      },
      "source": [
        "<a href=\"https://colab.research.google.com/github/nunif/nunif-colab/blob/master/waifu2x_training.ipynb\" target=\"_parent\"><img src=\"https://colab.research.google.com/assets/colab-badge.svg\" alt=\"Open In Colab\"/></a>"
      ]
    },
    {
      "cell_type": "markdown",
      "source": [
        "# nunif-colab"
      ],
      "metadata": {
        "id": "gpJdRlcDr-54"
      }
    },
    {
      "cell_type": "code",
      "source": [
        "!rm -rf nunif-colab & git clone https://github.com/nunif/nunif-colab.git"
      ],
      "metadata": {
        "id": "nquZO1tRniAC"
      },
      "execution_count": null,
      "outputs": []
    },
    {
      "cell_type": "code",
      "source": [
        "import os\n",
        "os.chdir('/content/nunif-colab')"
      ],
      "metadata": {
        "id": "uETAmAoWmVpM"
      },
      "execution_count": null,
      "outputs": []
    },
    {
      "cell_type": "code",
      "source": [
        "!chmod +x ./install.sh && ./install.sh && ls"
      ],
      "metadata": {
        "id": "512YEHr1mfi8"
      },
      "execution_count": null,
      "outputs": []
    },
    {
      "cell_type": "code",
      "source": [
        "!mkdir ./data/dataset/waifu2x/eval & mkdir ./data/dataset/waifu2x/train"
      ],
      "metadata": {
        "id": "i8XFHEBcpld8"
      },
      "execution_count": null,
      "outputs": []
    },
    {
      "cell_type": "markdown",
      "source": [
        "# Run image_crawler"
      ],
      "metadata": {
        "id": "IDUZ6Jn3saco"
      }
    },
    {
      "cell_type": "code",
      "source": [
        "import os\n",
        "os.chdir(\"./image_crawler\")"
      ],
      "metadata": {
        "id": "RoBc2rtAnG3G"
      },
      "execution_count": null,
      "outputs": []
    },
    {
      "cell_type": "code",
      "source": [
        "!python3 main.py"
      ],
      "metadata": {
        "id": "MU8dV2eaoJj1"
      },
      "execution_count": null,
      "outputs": []
    },
    {
      "cell_type": "markdown",
      "source": [
        "# Run Model Training"
      ],
      "metadata": {
        "id": "eGIgmebxsip0"
      }
    },
    {
      "cell_type": "code",
      "source": [
        "import os\n",
        "os.chdir(\"../\")"
      ],
      "metadata": {
        "id": "fOlgipGKpVXc"
      },
      "execution_count": null,
      "outputs": []
    },
    {
      "cell_type": "code",
      "source": [
        "!python3 create_training_data.py waifu2x --dataset-dir ./data/dataset/waifu2x/ --data-dir ./data/waifu2x"
      ],
      "metadata": {
        "id": "02q7nL9FpX_D"
      },
      "execution_count": null,
      "outputs": []
    },
    {
      "cell_type": "code",
      "source": [
        "!pip3 install --upgrade pillow"
      ],
      "metadata": {
        "id": "9xhvXEhKxmlj"
      },
      "execution_count": null,
      "outputs": []
    },
    {
      "cell_type": "code",
      "source": [
        "!mv ./data/dataset/waifu2x/train/* ./data/waifu2x/eval/"
      ],
      "metadata": {
        "id": "O60VyiKlypnk"
      },
      "execution_count": null,
      "outputs": []
    },
    {
      "cell_type": "code",
      "source": [
        "from google.colab import drive\n",
        "drive.mount('./drive')"
      ],
      "metadata": {
        "id": "dI_sq955piX6"
      },
      "execution_count": null,
      "outputs": []
    },
    {
      "cell_type": "code",
      "source": [
        "!python3 train.py waifu2x --method scale --arch waifu2x.upcunet --data-dir ./data/waifu2x --model-dir ./drive/MyDrive/waifu2x_mymodel"
      ],
      "metadata": {
        "id": "bvFnazSMxTs4"
      },
      "execution_count": null,
      "outputs": []
    }
  ]
}